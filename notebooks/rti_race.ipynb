{
 "cells": [
  {
   "cell_type": "markdown",
   "metadata": {},
   "source": [
    "# RTI Race code"
   ]
  },
  {
   "cell_type": "markdown",
   "metadata": {},
   "source": [
    "* Exploring options to determine processing rules for RTI Race code"
   ]
  },
  {
   "cell_type": "code",
   "execution_count": null,
   "metadata": {},
   "outputs": [],
   "source": [
    "## Load packages ----\n",
    "import numpy as np\n",
    "import pandas as pd\n",
    "import sshtunnel\n",
    "import psycopg2 as pg\n",
    "import os\n",
    "import seaborn as sns\n",
    "import matplotlib.pyplot as plt"
   ]
  },
  {
   "cell_type": "code",
   "execution_count": null,
   "metadata": {},
   "outputs": [],
   "source": [
    "## Open ssh tunnel to DB host ----\n",
    "tunnel = sshtunnel.SSHTunnelForwarder(\n",
    "    ('nsaph.rc.fas.harvard.edu', 22),\n",
    "    ssh_username=f'{os.environ[\"MY_NSAPH_SSH_USERNAME\"]}',\n",
    "    ssh_private_key=f'{os.environ[\"HOME\"]}/.ssh/id_rsa', \n",
    "    ssh_password=f'{os.environ[\"MY_NSAPH_SSH_PASSWORD\"]}', \n",
    "    remote_bind_address=(\"localhost\", 5432)\n",
    ")\n",
    "\n",
    "tunnel.start()"
   ]
  },
  {
   "cell_type": "code",
   "execution_count": null,
   "metadata": {},
   "outputs": [],
   "source": [
    "## Open connection to DB ----\n",
    "connection = pg.connect(\n",
    "    host='localhost',\n",
    "    database='nsaph2',\n",
    "    user=f'{os.environ[\"MY_NSAPH_DB_USERNAME\"]}',\n",
    "    password=f'{os.environ[\"MY_NSAPH_DB_PASSWORD\"]}', \n",
    "    port=tunnel.local_bind_port\n",
    ")"
   ]
  },
  {
   "cell_type": "markdown",
   "metadata": {},
   "source": [
    "## Data munging"
   ]
  },
  {
   "cell_type": "code",
   "execution_count": null,
   "metadata": {},
   "outputs": [],
   "source": [
    "sql_query = f\"\"\"SELECT * FROM medicare.beneficiaries LIMIT 10;\"\"\""
   ]
  },
  {
   "cell_type": "code",
   "execution_count": null,
   "metadata": {},
   "outputs": [],
   "source": [
    "sql_query"
   ]
  },
  {
   "cell_type": "code",
   "execution_count": null,
   "metadata": {},
   "outputs": [],
   "source": [
    "## Request query ----\n",
    "df = pd.read_sql_query(sql_query, connection, index_col = 'bene_id').reset_index()\n",
    "df"
   ]
  },
  {
   "cell_type": "code",
   "execution_count": null,
   "metadata": {},
   "outputs": [],
   "source": []
  }
 ],
 "metadata": {
  "kernelspec": {
   "display_name": "Python [conda env:.conda-medicare_QC]",
   "language": "python",
   "name": "conda-env-.conda-medicare_QC-py"
  },
  "language_info": {
   "codemirror_mode": {
    "name": "ipython",
    "version": 3
   },
   "file_extension": ".py",
   "mimetype": "text/x-python",
   "name": "python",
   "nbconvert_exporter": "python",
   "pygments_lexer": "ipython3",
   "version": "3.9.12"
  }
 },
 "nbformat": 4,
 "nbformat_minor": 4
}
