{
 "cells": [
  {
   "cell_type": "code",
   "execution_count": 6,
   "id": "cc082582-455a-4e39-b8cd-15543bf13d15",
   "metadata": {},
   "outputs": [],
   "source": [
    "import yaml\n",
    "import pprint\n",
    "from census import Census\n",
    "from us import states\n",
    "import pandas as pd\n",
    "import numpy as np\n",
    "import matplotlib.pyplot as plt"
   ]
  },
  {
   "cell_type": "code",
   "execution_count": 2,
   "id": "f9bd612c-c48e-4ce7-8923-65bea3a500cf",
   "metadata": {},
   "outputs": [
    {
     "name": "stdout",
     "output_type": "stream",
     "text": [
      "Collecting census\n",
      "  Downloading census-0.8.20-py3-none-any.whl (11 kB)\n",
      "Collecting requests>=1.1.0\n",
      "  Downloading requests-2.31.0-py3-none-any.whl (62 kB)\n",
      "\u001b[2K     \u001b[90m━━━━━━━━━━━━━━━━━━━━━━━━━━━━━━━━━━━━━━━\u001b[0m \u001b[32m62.6/62.6 kB\u001b[0m \u001b[31m970.1 kB/s\u001b[0m eta \u001b[36m0:00:00\u001b[0m0:01\u001b[0m\n",
      "\u001b[?25hCollecting urllib3<3,>=1.21.1\n",
      "  Downloading urllib3-2.0.2-py3-none-any.whl (123 kB)\n",
      "\u001b[2K     \u001b[90m━━━━━━━━━━━━━━━━━━━━━━━━━━━━━━━━━━━━━━━\u001b[0m \u001b[32m123.2/123.2 kB\u001b[0m \u001b[31m2.2 MB/s\u001b[0m eta \u001b[36m0:00:00\u001b[0m00:01\u001b[0m\n",
      "\u001b[?25hRequirement already satisfied: certifi>=2017.4.17 in /n/home_fasse/nsardana/.conda/envs/dorieh_copy/lib/python3.10/site-packages (from requests>=1.1.0->census) (2022.12.7)\n",
      "Collecting idna<4,>=2.5\n",
      "  Downloading idna-3.4-py3-none-any.whl (61 kB)\n",
      "\u001b[2K     \u001b[90m━━━━━━━━━━━━━━━━━━━━━━━━━━━━━━━━━━━━━━━━\u001b[0m \u001b[32m61.5/61.5 kB\u001b[0m \u001b[31m1.1 MB/s\u001b[0m eta \u001b[36m0:00:00\u001b[0m00:01\u001b[0m\n",
      "\u001b[?25hCollecting charset-normalizer<4,>=2\n",
      "  Downloading charset_normalizer-3.1.0-cp310-cp310-manylinux_2_17_x86_64.manylinux2014_x86_64.whl (199 kB)\n",
      "\u001b[2K     \u001b[90m━━━━━━━━━━━━━━━━━━━━━━━━━━━━━━━━━━━━━━━\u001b[0m \u001b[32m199.3/199.3 kB\u001b[0m \u001b[31m3.0 MB/s\u001b[0m eta \u001b[36m0:00:00\u001b[0m00:01\u001b[0m\n",
      "\u001b[?25hInstalling collected packages: urllib3, idna, charset-normalizer, requests, census\n",
      "Successfully installed census-0.8.20 charset-normalizer-3.1.0 idna-3.4 requests-2.31.0 urllib3-2.0.2\n"
     ]
    }
   ],
   "source": [
    "!pip install census"
   ]
  },
  {
   "cell_type": "code",
   "execution_count": 4,
   "id": "1d7c79ff-315c-4576-8a8e-5bf9573243bf",
   "metadata": {},
   "outputs": [
    {
     "name": "stdout",
     "output_type": "stream",
     "text": [
      "Collecting us\n",
      "  Downloading us-2.0.2.tar.gz (14 kB)\n",
      "  Preparing metadata (setup.py) ... \u001b[?25ldone\n",
      "\u001b[?25hCollecting jellyfish==0.6.1\n",
      "  Downloading jellyfish-0.6.1.tar.gz (132 kB)\n",
      "\u001b[2K     \u001b[90m━━━━━━━━━━━━━━━━━━━━━━━━━━━━━━━━━━━━━━━\u001b[0m \u001b[32m132.6/132.6 kB\u001b[0m \u001b[31m2.0 MB/s\u001b[0m eta \u001b[36m0:00:00\u001b[0ma \u001b[36m0:00:01\u001b[0m\n",
      "\u001b[?25h  Preparing metadata (setup.py) ... \u001b[?25ldone\n",
      "\u001b[?25hBuilding wheels for collected packages: us, jellyfish\n",
      "  Building wheel for us (setup.py) ... \u001b[?25ldone\n",
      "\u001b[?25h  Created wheel for us: filename=us-2.0.2-py3-none-any.whl size=11940 sha256=54516212e72f5db05c4d8435215230aa74ea6c85aa75129e2b041de43ba7485f\n",
      "  Stored in directory: /n/home_fasse/nsardana/.cache/pip/wheels/b0/2a/8b/46c38c4bc2d65459d10a393292c197faf7d1071bc6177f84a4\n",
      "  Building wheel for jellyfish (setup.py) ... \u001b[?25ldone\n",
      "\u001b[?25h  Created wheel for jellyfish: filename=jellyfish-0.6.1-cp310-cp310-linux_x86_64.whl size=23751 sha256=56bc8872b755f4aab48922253b631274d750e5bc0121b3f7d73f4db87e959230\n",
      "  Stored in directory: /n/home_fasse/nsardana/.cache/pip/wheels/b4/50/f2/2a1bd2c756df70adc1f703e09453b6f68255385789b32107ae\n",
      "Successfully built us jellyfish\n",
      "Installing collected packages: jellyfish, us\n",
      "Successfully installed jellyfish-0.6.1 us-2.0.2\n"
     ]
    }
   ],
   "source": [
    "!pip install us"
   ]
  },
  {
   "cell_type": "code",
   "execution_count": 9,
   "id": "653293d4-cfc8-429f-80d0-b4948eac41fb",
   "metadata": {},
   "outputs": [],
   "source": [
    "#setting up api key\n",
    "key = '0fec0de3c4e525041f1101feb0c3a41be9b4a007'"
   ]
  },
  {
   "cell_type": "code",
   "execution_count": 127,
   "id": "402a8cd7-7060-4b0e-bdf4-267b9568eb6c",
   "metadata": {},
   "outputs": [],
   "source": [
    "#reading the yaml file\n",
    "file_name = \"../data/input/remote/census.yaml\"\n",
    "with open(file_name) as file:\n",
    "    census_doc = yaml.safe_load(file)"
   ]
  },
  {
   "cell_type": "code",
   "execution_count": 48,
   "id": "5ca4d57f-8a4e-42f8-a85d-cc4de4e64d0f",
   "metadata": {},
   "outputs": [],
   "source": [
    "def get_census_zcta(var_name, var_entry, year):\n",
    "    c = Census(key)\n",
    "    if 'den' in var_entry:\n",
    "        den_list = var_entry['den']\n",
    "        num_list = var_entry['num']\n",
    "        all_var_list = den_list + num_list\n",
    "        data = c.acs5.get(all_var, {'for': 'zip code tabulation area:*', 'year': year})\n",
    "        df = pd.DataFrame.from_records(data)  \n",
    "        df[var_name] = df[num_list].sum(axis=1) / df[den_list].sum(axis=1)\n",
    "    else:\n",
    "        num_list = var_entry['num']\n",
    "        all_var_list = num_list\n",
    "        data = c.acs5.get(all_var, {'for': 'zip code tabulation area:*', 'year': year})\n",
    "        df = pd.DataFrame.from_records(data)  \n",
    "        df[var_name] = df[num_list].sum(axis=1) / df[den_list].sum(axis=1)\n",
    "        \n",
    "    df.rename(columns={'zip code tabulation area':'zcta'}, inplace = True)\n",
    "    col_list = ['zcta', var_name]\n",
    "    df = df[col_list]\n",
    "    return df\n",
    "        \n",
    "\n",
    "def main(args):\n",
    "    # read in census yaml ----\n",
    "    census = pd.read_yaml(args.census_yaml)\n",
    "    \n",
    "    df_list = []\n",
    "    \n",
    "    # get census data for all zcta for each variables----\n",
    "    for variable in census.keys():\n",
    "        var_entry = document[variable][args.year]\n",
    "        df_var = get_census_zcta(variable, var_entry, args.year)\n",
    "        df_list.append(df_var)\n",
    "\n",
    "    # merge dataframes ----\n",
    "    df = pd.concat(df_list)\n",
    "\n",
    "    # write ouput ----\n",
    "    df.set_index('zcta', inplace=True)\n",
    "\n",
    "    output_file = f\"{args.output_prefix}_{args.year}.parquet\"\n",
    "    if args.output_format == 'csv':\n",
    "        df.to_csv(output_file)\n",
    "    elif args.output_format == 'parquet':\n",
    "        df.to_parquet(output_file)"
   ]
  },
  {
   "cell_type": "code",
   "execution_count": 22,
   "id": "fe0c724d-0cf3-4916-be42-e02594cea2bd",
   "metadata": {},
   "outputs": [
    {
     "name": "stdout",
     "output_type": "stream",
     "text": [
      "pct_blk\n",
      "medhouseholdincome\n",
      "pct_owner_occ\n",
      "hispanic\n",
      "education\n"
     ]
    }
   ],
   "source": [
    "df_list = []\n",
    "for variable in document.keys():\n",
    "    document[variable]\n",
    "    "
   ]
  },
  {
   "cell_type": "code",
   "execution_count": 31,
   "id": "abc5718b-15fe-4a1f-9353-83aba6d996fc",
   "metadata": {},
   "outputs": [
    {
     "data": {
      "text/plain": [
       "['B02001_003E', 'B02001_001E']"
      ]
     },
     "execution_count": 31,
     "metadata": {},
     "output_type": "execute_result"
    }
   ],
   "source": [
    "entry = document['pct_blk'][2011]\n",
    "entry['num'] + entry['den']"
   ]
  },
  {
   "cell_type": "code",
   "execution_count": 36,
   "id": "2f13ddfb-3a11-4955-b1f1-474f0f7080c7",
   "metadata": {},
   "outputs": [
    {
     "name": "stdout",
     "output_type": "stream",
     "text": [
      "{'prefix': 'ACS11_5yr_', 'num': ['B02001_003E'], 'den': ['B02001_001E']}\n",
      "{'prefix': 'ACS11_5yr_', 'num': ['B19013_001E']}\n",
      "{'prefix': 'ACS11_5yr_', 'num': ['B11012_004E', 'B11012_008E', 'B11012_011E', 'B11012_014E'], 'den': ['B11012_001E']}\n",
      "{'prefix': 'ACS11_5yr_', 'num': ['B03003_003E'], 'den': ['B03003_001E']}\n",
      "{'prefix': 'ACS11_5yr_', 'num': ['B15001_036E', 'B15001_037E', 'B15001_077E', 'B15001_078E'], 'den': ['B15001_035E', 'B15001_076E']}\n"
     ]
    }
   ],
   "source": [
    "for variable in document.keys():\n",
    "        entry = document[variable][2011]\n",
    "        print(entry)\n",
    "        #print(entry)\n"
   ]
  },
  {
   "cell_type": "code",
   "execution_count": 113,
   "id": "e8aabb92-f008-4bcb-90b8-5188761e737f",
   "metadata": {},
   "outputs": [],
   "source": [
    "def get_census_zcta(var_name, var_entry, year):\n",
    "    key = '0fec0de3c4e525041f1101feb0c3a41be9b4a007'\n",
    "    c = Census(key)\n",
    "    print(var_name)\n",
    "    if 'den' in var_entry:\n",
    "        den_list = var_entry['den']\n",
    "        num_list = var_entry['num']\n",
    "        all_var_list = den_list + num_list\n",
    "        data = c.acs5.get(all_var_list, {'for': 'zip code tabulation area:*', 'year': year})\n",
    "        df = pd.DataFrame.from_records(data) \n",
    "        df[var_name] = df[num_list].sum(axis=1) / df[den_list].sum(axis=1)\n",
    "    else:\n",
    "        num_list = var_entry['num']\n",
    "        all_var_list = num_list\n",
    "        data = c.acs5.get(all_var_list, {'for': 'zip code tabulation area:*', 'year': year})\n",
    "        df = pd.DataFrame.from_records(data)  \n",
    "        df[var_name] = df[num_list].sum(axis=1)\n",
    "        \n",
    "    df.rename(columns={'zip code tabulation area':'zcta'}, inplace = True)\n",
    "    col_list = ['zcta', var_name]\n",
    "    df = df[col_list]\n",
    "    df.set_index('zcta', inplace=True)\n",
    "    return df\n",
    "        "
   ]
  },
  {
   "cell_type": "code",
   "execution_count": 124,
   "id": "8cf8ddc0-3c4a-429d-af64-fbfa21e9574f",
   "metadata": {},
   "outputs": [
    {
     "name": "stdout",
     "output_type": "stream",
     "text": [
      "pct_blk\n",
      "medhouseholdincome\n",
      "pct_owner_occ\n",
      "hispanic\n",
      "education\n"
     ]
    }
   ],
   "source": [
    "#census = pd.read_yaml(args.census_yaml)\n",
    "\n",
    "df_list = []\n",
    "\n",
    "# get census data for all zcta for each variables----\n",
    "for variable in census.keys():\n",
    "    var_entry = census_doc[variable][2011]\n",
    "    df_var = get_census_zcta(variable, var_entry, 2011)\n",
    "    df_list.append(df_var)\n",
    "\n",
    "# merge dataframes ----\n",
    "df = pd.concat(df_list, axis=1)\n",
    "df.reset_index(inplace=True)"
   ]
  },
  {
   "cell_type": "code",
   "execution_count": 125,
   "id": "0f830321-bf12-43d6-a4b7-dfbcc2c968f0",
   "metadata": {},
   "outputs": [
    {
     "name": "stdout",
     "output_type": "stream",
     "text": [
      "<class 'pandas.core.frame.DataFrame'>\n",
      "RangeIndex: 33774 entries, 0 to 33773\n",
      "Data columns (total 6 columns):\n",
      " #   Column              Non-Null Count  Dtype  \n",
      "---  ------              --------------  -----  \n",
      " 0   zcta                33774 non-null  object \n",
      " 1   pct_blk             33184 non-null  float64\n",
      " 2   medhouseholdincome  33774 non-null  float64\n",
      " 3   pct_owner_occ       32812 non-null  float64\n",
      " 4   hispanic            33184 non-null  float64\n",
      " 5   education           32321 non-null  float64\n",
      "dtypes: float64(5), object(1)\n",
      "memory usage: 1.5+ MB\n"
     ]
    }
   ],
   "source": [
    "df.info()\n"
   ]
  },
  {
   "cell_type": "code",
   "execution_count": 123,
   "id": "494dabbd-4b52-4083-b9b9-460c2187d55b",
   "metadata": {},
   "outputs": [
    {
     "data": {
      "text/plain": [
       "Index(['pct_blk', 'medhouseholdincome', 'pct_owner_occ', 'hispanic',\n",
       "       'education'],\n",
       "      dtype='object')"
      ]
     },
     "execution_count": 123,
     "metadata": {},
     "output_type": "execute_result"
    }
   ],
   "source": [
    "df.columns"
   ]
  },
  {
   "cell_type": "code",
   "execution_count": 105,
   "id": "cb7bdf9d-8f98-48a7-ad67-b6999a066396",
   "metadata": {},
   "outputs": [
    {
     "data": {
      "text/plain": [
       "33120"
      ]
     },
     "execution_count": 105,
     "metadata": {},
     "output_type": "execute_result"
    }
   ],
   "source": [
    "len(data)"
   ]
  },
  {
   "cell_type": "code",
   "execution_count": 68,
   "id": "f92316e2-42c2-4a05-845b-4873cb3fbc69",
   "metadata": {},
   "outputs": [
    {
     "ename": "KeyError",
     "evalue": "\"None of [Index(['B02001_003E'], dtype='object')] are in the [columns]\"",
     "output_type": "error",
     "traceback": [
      "\u001b[0;31m---------------------------------------------------------------------------\u001b[0m",
      "\u001b[0;31mKeyError\u001b[0m                                  Traceback (most recent call last)",
      "Cell \u001b[0;32mIn [68], line 1\u001b[0m\n\u001b[0;32m----> 1\u001b[0m \u001b[43mdf\u001b[49m\u001b[43m[\u001b[49m\u001b[43mnum_list\u001b[49m\u001b[43m]\u001b[49m\u001b[38;5;241m.\u001b[39msum(axis\u001b[38;5;241m=\u001b[39m\u001b[38;5;241m1\u001b[39m)\n",
      "File \u001b[0;32m~/.conda/envs/dorieh_copy/lib/python3.10/site-packages/pandas/core/frame.py:3810\u001b[0m, in \u001b[0;36mDataFrame.__getitem__\u001b[0;34m(self, key)\u001b[0m\n\u001b[1;32m   3808\u001b[0m     \u001b[38;5;28;01mif\u001b[39;00m is_iterator(key):\n\u001b[1;32m   3809\u001b[0m         key \u001b[38;5;241m=\u001b[39m \u001b[38;5;28mlist\u001b[39m(key)\n\u001b[0;32m-> 3810\u001b[0m     indexer \u001b[38;5;241m=\u001b[39m \u001b[38;5;28;43mself\u001b[39;49m\u001b[38;5;241;43m.\u001b[39;49m\u001b[43mcolumns\u001b[49m\u001b[38;5;241;43m.\u001b[39;49m\u001b[43m_get_indexer_strict\u001b[49m\u001b[43m(\u001b[49m\u001b[43mkey\u001b[49m\u001b[43m,\u001b[49m\u001b[43m \u001b[49m\u001b[38;5;124;43m\"\u001b[39;49m\u001b[38;5;124;43mcolumns\u001b[39;49m\u001b[38;5;124;43m\"\u001b[39;49m\u001b[43m)\u001b[49m[\u001b[38;5;241m1\u001b[39m]\n\u001b[1;32m   3812\u001b[0m \u001b[38;5;66;03m# take() does not accept boolean indexers\u001b[39;00m\n\u001b[1;32m   3813\u001b[0m \u001b[38;5;28;01mif\u001b[39;00m \u001b[38;5;28mgetattr\u001b[39m(indexer, \u001b[38;5;124m\"\u001b[39m\u001b[38;5;124mdtype\u001b[39m\u001b[38;5;124m\"\u001b[39m, \u001b[38;5;28;01mNone\u001b[39;00m) \u001b[38;5;241m==\u001b[39m \u001b[38;5;28mbool\u001b[39m:\n",
      "File \u001b[0;32m~/.conda/envs/dorieh_copy/lib/python3.10/site-packages/pandas/core/indexes/base.py:6111\u001b[0m, in \u001b[0;36mIndex._get_indexer_strict\u001b[0;34m(self, key, axis_name)\u001b[0m\n\u001b[1;32m   6108\u001b[0m \u001b[38;5;28;01melse\u001b[39;00m:\n\u001b[1;32m   6109\u001b[0m     keyarr, indexer, new_indexer \u001b[38;5;241m=\u001b[39m \u001b[38;5;28mself\u001b[39m\u001b[38;5;241m.\u001b[39m_reindex_non_unique(keyarr)\n\u001b[0;32m-> 6111\u001b[0m \u001b[38;5;28;43mself\u001b[39;49m\u001b[38;5;241;43m.\u001b[39;49m\u001b[43m_raise_if_missing\u001b[49m\u001b[43m(\u001b[49m\u001b[43mkeyarr\u001b[49m\u001b[43m,\u001b[49m\u001b[43m \u001b[49m\u001b[43mindexer\u001b[49m\u001b[43m,\u001b[49m\u001b[43m \u001b[49m\u001b[43maxis_name\u001b[49m\u001b[43m)\u001b[49m\n\u001b[1;32m   6113\u001b[0m keyarr \u001b[38;5;241m=\u001b[39m \u001b[38;5;28mself\u001b[39m\u001b[38;5;241m.\u001b[39mtake(indexer)\n\u001b[1;32m   6114\u001b[0m \u001b[38;5;28;01mif\u001b[39;00m \u001b[38;5;28misinstance\u001b[39m(key, Index):\n\u001b[1;32m   6115\u001b[0m     \u001b[38;5;66;03m# GH 42790 - Preserve name from an Index\u001b[39;00m\n",
      "File \u001b[0;32m~/.conda/envs/dorieh_copy/lib/python3.10/site-packages/pandas/core/indexes/base.py:6171\u001b[0m, in \u001b[0;36mIndex._raise_if_missing\u001b[0;34m(self, key, indexer, axis_name)\u001b[0m\n\u001b[1;32m   6169\u001b[0m     \u001b[38;5;28;01mif\u001b[39;00m use_interval_msg:\n\u001b[1;32m   6170\u001b[0m         key \u001b[38;5;241m=\u001b[39m \u001b[38;5;28mlist\u001b[39m(key)\n\u001b[0;32m-> 6171\u001b[0m     \u001b[38;5;28;01mraise\u001b[39;00m \u001b[38;5;167;01mKeyError\u001b[39;00m(\u001b[38;5;124mf\u001b[39m\u001b[38;5;124m\"\u001b[39m\u001b[38;5;124mNone of [\u001b[39m\u001b[38;5;132;01m{\u001b[39;00mkey\u001b[38;5;132;01m}\u001b[39;00m\u001b[38;5;124m] are in the [\u001b[39m\u001b[38;5;132;01m{\u001b[39;00maxis_name\u001b[38;5;132;01m}\u001b[39;00m\u001b[38;5;124m]\u001b[39m\u001b[38;5;124m\"\u001b[39m)\n\u001b[1;32m   6173\u001b[0m not_found \u001b[38;5;241m=\u001b[39m \u001b[38;5;28mlist\u001b[39m(ensure_index(key)[missing_mask\u001b[38;5;241m.\u001b[39mnonzero()[\u001b[38;5;241m0\u001b[39m]]\u001b[38;5;241m.\u001b[39munique())\n\u001b[1;32m   6174\u001b[0m \u001b[38;5;28;01mraise\u001b[39;00m \u001b[38;5;167;01mKeyError\u001b[39;00m(\u001b[38;5;124mf\u001b[39m\u001b[38;5;124m\"\u001b[39m\u001b[38;5;132;01m{\u001b[39;00mnot_found\u001b[38;5;132;01m}\u001b[39;00m\u001b[38;5;124m not in index\u001b[39m\u001b[38;5;124m\"\u001b[39m)\n",
      "\u001b[0;31mKeyError\u001b[0m: \"None of [Index(['B02001_003E'], dtype='object')] are in the [columns]\""
     ]
    }
   ],
   "source": [
    "df[num_list].sum(axis=1)"
   ]
  },
  {
   "cell_type": "code",
   "execution_count": 79,
   "id": "a9d96175-35da-4b29-8371-66055a4f0ba0",
   "metadata": {},
   "outputs": [
    {
     "name": "stdout",
     "output_type": "stream",
     "text": [
      "['B02001_003E']\n",
      "['B02001_001E']\n"
     ]
    }
   ],
   "source": [
    "c = Census(key, year=2011)\n",
    "variable = 'pct_blk'\n",
    "var_entry = census[variable][2011]\n",
    "\n",
    "den_list = var_entry['den']\n",
    "num_list = var_entry['num']\n",
    "print(num_list)\n",
    "print(den_list)\n",
    "\n",
    "all_var_list = den_list + num_list\n",
    "data = c.acs5.get(all_var_list, {'for': 'zip code tabulation area:*', 'year': 2011})\n",
    "df = pd.DataFrame.from_records(data) \n",
    "\n",
    "\n"
   ]
  },
  {
   "cell_type": "code",
   "execution_count": 80,
   "id": "4cfd20b9-e364-48a3-b1db-8a03e4ba821f",
   "metadata": {},
   "outputs": [
    {
     "data": {
      "text/plain": [
       "['B02001_001E', 'B02001_003E']"
      ]
     },
     "execution_count": 80,
     "metadata": {},
     "output_type": "execute_result"
    }
   ],
   "source": [
    "all_var_list\n"
   ]
  },
  {
   "cell_type": "code",
   "execution_count": 81,
   "id": "d4d4aa97-5984-4302-8b50-905e8f127572",
   "metadata": {},
   "outputs": [
    {
     "data": {
      "text/html": [
       "<div>\n",
       "<style scoped>\n",
       "    .dataframe tbody tr th:only-of-type {\n",
       "        vertical-align: middle;\n",
       "    }\n",
       "\n",
       "    .dataframe tbody tr th {\n",
       "        vertical-align: top;\n",
       "    }\n",
       "\n",
       "    .dataframe thead th {\n",
       "        text-align: right;\n",
       "    }\n",
       "</style>\n",
       "<table border=\"1\" class=\"dataframe\">\n",
       "  <thead>\n",
       "    <tr style=\"text-align: right;\">\n",
       "      <th></th>\n",
       "      <th>B02001_001E</th>\n",
       "      <th>B02001_003E</th>\n",
       "      <th>state</th>\n",
       "      <th>zip code tabulation area</th>\n",
       "    </tr>\n",
       "  </thead>\n",
       "  <tbody>\n",
       "    <tr>\n",
       "      <th>0</th>\n",
       "      <td>18533.0</td>\n",
       "      <td>261.0</td>\n",
       "      <td>72</td>\n",
       "      <td>00601</td>\n",
       "    </tr>\n",
       "    <tr>\n",
       "      <th>1</th>\n",
       "      <td>41930.0</td>\n",
       "      <td>1794.0</td>\n",
       "      <td>72</td>\n",
       "      <td>00602</td>\n",
       "    </tr>\n",
       "    <tr>\n",
       "      <th>2</th>\n",
       "      <td>54475.0</td>\n",
       "      <td>1767.0</td>\n",
       "      <td>72</td>\n",
       "      <td>00603</td>\n",
       "    </tr>\n",
       "    <tr>\n",
       "      <th>3</th>\n",
       "      <td>6386.0</td>\n",
       "      <td>43.0</td>\n",
       "      <td>72</td>\n",
       "      <td>00606</td>\n",
       "    </tr>\n",
       "    <tr>\n",
       "      <th>4</th>\n",
       "      <td>29111.0</td>\n",
       "      <td>700.0</td>\n",
       "      <td>72</td>\n",
       "      <td>00610</td>\n",
       "    </tr>\n",
       "    <tr>\n",
       "      <th>...</th>\n",
       "      <td>...</td>\n",
       "      <td>...</td>\n",
       "      <td>...</td>\n",
       "      <td>...</td>\n",
       "    </tr>\n",
       "    <tr>\n",
       "      <th>33115</th>\n",
       "      <td>116.0</td>\n",
       "      <td>0.0</td>\n",
       "      <td>02</td>\n",
       "      <td>99923</td>\n",
       "    </tr>\n",
       "    <tr>\n",
       "      <th>33116</th>\n",
       "      <td>689.0</td>\n",
       "      <td>0.0</td>\n",
       "      <td>02</td>\n",
       "      <td>99925</td>\n",
       "    </tr>\n",
       "    <tr>\n",
       "      <th>33117</th>\n",
       "      <td>1488.0</td>\n",
       "      <td>7.0</td>\n",
       "      <td>02</td>\n",
       "      <td>99926</td>\n",
       "    </tr>\n",
       "    <tr>\n",
       "      <th>33118</th>\n",
       "      <td>67.0</td>\n",
       "      <td>0.0</td>\n",
       "      <td>02</td>\n",
       "      <td>99927</td>\n",
       "    </tr>\n",
       "    <tr>\n",
       "      <th>33119</th>\n",
       "      <td>2321.0</td>\n",
       "      <td>21.0</td>\n",
       "      <td>02</td>\n",
       "      <td>99929</td>\n",
       "    </tr>\n",
       "  </tbody>\n",
       "</table>\n",
       "<p>33120 rows × 4 columns</p>\n",
       "</div>"
      ],
      "text/plain": [
       "       B02001_001E  B02001_003E state zip code tabulation area\n",
       "0          18533.0        261.0    72                    00601\n",
       "1          41930.0       1794.0    72                    00602\n",
       "2          54475.0       1767.0    72                    00603\n",
       "3           6386.0         43.0    72                    00606\n",
       "4          29111.0        700.0    72                    00610\n",
       "...            ...          ...   ...                      ...\n",
       "33115        116.0          0.0    02                    99923\n",
       "33116        689.0          0.0    02                    99925\n",
       "33117       1488.0          7.0    02                    99926\n",
       "33118         67.0          0.0    02                    99927\n",
       "33119       2321.0         21.0    02                    99929\n",
       "\n",
       "[33120 rows x 4 columns]"
      ]
     },
     "execution_count": 81,
     "metadata": {},
     "output_type": "execute_result"
    }
   ],
   "source": [
    "df"
   ]
  },
  {
   "cell_type": "code",
   "execution_count": null,
   "id": "c7e3c790-97b4-42c6-b94d-c68c1faeae70",
   "metadata": {},
   "outputs": [],
   "source": []
  }
 ],
 "metadata": {
  "kernelspec": {
   "display_name": "Python [conda env:.conda-dorieh_copy]",
   "language": "python",
   "name": "conda-env-.conda-dorieh_copy-py"
  },
  "language_info": {
   "codemirror_mode": {
    "name": "ipython",
    "version": 3
   },
   "file_extension": ".py",
   "mimetype": "text/x-python",
   "name": "python",
   "nbconvert_exporter": "python",
   "pygments_lexer": "ipython3",
   "version": "3.10.8"
  }
 },
 "nbformat": 4,
 "nbformat_minor": 5
}
