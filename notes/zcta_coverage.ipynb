{
 "cells": [
  {
   "cell_type": "code",
   "execution_count": 10,
   "metadata": {},
   "outputs": [],
   "source": [
    "#loading the necessary modules \n",
    "import pandas as pd"
   ]
  },
  {
   "cell_type": "code",
   "execution_count": 11,
   "metadata": {},
   "outputs": [],
   "source": [
    "#loading files\n",
    "zcta_df = pd.read_csv('/net/rcstorenfs02/ifs/rc_labs/dominici_lab/lab/data_processing/zip2zcta_master_xwalk/michelle/data/output/zip2zcta_master_xwalk/zip2zcta_master_xwalk.csv')\n",
    "#df_2009 = pd.read_csv('/n/dominici_nsaph_l3/Lab/data_processing/census_acs5/nishtha_old/data/output/census_acs5/census_2009.csv')\n",
    "#set(zcta_df['zcta'].unique())"
   ]
  },
  {
   "cell_type": "code",
   "execution_count": 12,
   "metadata": {},
   "outputs": [],
   "source": [
    "#checking coverage\n",
    "coverage_dict = {'year':[],'xwalk_zcta':[], 'census':[], '%coverage':[]}\n",
    "zcta_from_xwalk = list(zcta_df['zcta'].unique())\n",
    "\n",
    "for year in list(range(2009, 2018)):\n",
    "\n",
    "    file__prefix = '/n/dominici_nsaph_l3/Lab/projects/analytic/census_acs5/'\n",
    "    file_name = 'census_' + str(year)\n",
    "    file_suffix = '.parquet'\n",
    "    file_path = file__prefix + file_name + file_suffix\n",
    "    df = pd.read_parquet(file_path)\n",
    "\n",
    "    zcta_df = set(df['zcta'])\n",
    "\n",
    "    coverage_dict['year'].append(year)\n",
    "    coverage_dict['xwalk_zcta'].append(len(zcta_from_xwalk))\n",
    "    coverage_dict['census'].append(len(zcta_df))\n",
    "    coverage_dict['%coverage'].append(100.0*len(zcta_df)/len(zcta_from_xwalk))\n"
   ]
  },
  {
   "cell_type": "code",
   "execution_count": 13,
   "metadata": {},
   "outputs": [
    {
     "name": "stdout",
     "output_type": "stream",
     "text": [
      "%coverage: % of zcta covered as a total of xwalk zctas \n"
     ]
    },
    {
     "data": {
      "text/html": [
       "<div>\n",
       "<style scoped>\n",
       "    .dataframe tbody tr th:only-of-type {\n",
       "        vertical-align: middle;\n",
       "    }\n",
       "\n",
       "    .dataframe tbody tr th {\n",
       "        vertical-align: top;\n",
       "    }\n",
       "\n",
       "    .dataframe thead th {\n",
       "        text-align: right;\n",
       "    }\n",
       "</style>\n",
       "<table border=\"1\" class=\"dataframe\">\n",
       "  <thead>\n",
       "    <tr style=\"text-align: right;\">\n",
       "      <th></th>\n",
       "      <th>year</th>\n",
       "      <th>xwalk_zcta</th>\n",
       "      <th>census</th>\n",
       "      <th>%coverage</th>\n",
       "    </tr>\n",
       "  </thead>\n",
       "  <tbody>\n",
       "    <tr>\n",
       "      <th>0</th>\n",
       "      <td>2009</td>\n",
       "      <td>33144</td>\n",
       "      <td>33120</td>\n",
       "      <td>99.927589</td>\n",
       "    </tr>\n",
       "    <tr>\n",
       "      <th>1</th>\n",
       "      <td>2010</td>\n",
       "      <td>33144</td>\n",
       "      <td>33120</td>\n",
       "      <td>99.927589</td>\n",
       "    </tr>\n",
       "    <tr>\n",
       "      <th>2</th>\n",
       "      <td>2011</td>\n",
       "      <td>33144</td>\n",
       "      <td>33120</td>\n",
       "      <td>99.927589</td>\n",
       "    </tr>\n",
       "    <tr>\n",
       "      <th>3</th>\n",
       "      <td>2012</td>\n",
       "      <td>33144</td>\n",
       "      <td>33120</td>\n",
       "      <td>99.927589</td>\n",
       "    </tr>\n",
       "    <tr>\n",
       "      <th>4</th>\n",
       "      <td>2013</td>\n",
       "      <td>33144</td>\n",
       "      <td>33120</td>\n",
       "      <td>99.927589</td>\n",
       "    </tr>\n",
       "    <tr>\n",
       "      <th>5</th>\n",
       "      <td>2014</td>\n",
       "      <td>33144</td>\n",
       "      <td>33120</td>\n",
       "      <td>99.927589</td>\n",
       "    </tr>\n",
       "    <tr>\n",
       "      <th>6</th>\n",
       "      <td>2015</td>\n",
       "      <td>33144</td>\n",
       "      <td>33120</td>\n",
       "      <td>99.927589</td>\n",
       "    </tr>\n",
       "    <tr>\n",
       "      <th>7</th>\n",
       "      <td>2016</td>\n",
       "      <td>33144</td>\n",
       "      <td>33120</td>\n",
       "      <td>99.927589</td>\n",
       "    </tr>\n",
       "    <tr>\n",
       "      <th>8</th>\n",
       "      <td>2017</td>\n",
       "      <td>33144</td>\n",
       "      <td>33120</td>\n",
       "      <td>99.927589</td>\n",
       "    </tr>\n",
       "  </tbody>\n",
       "</table>\n",
       "</div>"
      ],
      "text/plain": [
       "   year  xwalk_zcta  census  %coverage\n",
       "0  2009       33144   33120  99.927589\n",
       "1  2010       33144   33120  99.927589\n",
       "2  2011       33144   33120  99.927589\n",
       "3  2012       33144   33120  99.927589\n",
       "4  2013       33144   33120  99.927589\n",
       "5  2014       33144   33120  99.927589\n",
       "6  2015       33144   33120  99.927589\n",
       "7  2016       33144   33120  99.927589\n",
       "8  2017       33144   33120  99.927589"
      ]
     },
     "execution_count": 13,
     "metadata": {},
     "output_type": "execute_result"
    }
   ],
   "source": [
    "#coverage % for each census file as a % of xwalk (% of zcta covered as a total of xwalk zctas)\n",
    "cover_df = pd.DataFrame(coverage_dict)\n",
    "\n",
    "\n",
    "print('%coverage: % of zcta covered as a total of xwalk zctas ')\n",
    "cover_df"
   ]
  }
 ],
 "metadata": {
  "kernelspec": {
   "display_name": "Python 3",
   "language": "python",
   "name": "python3"
  },
  "language_info": {
   "codemirror_mode": {
    "name": "ipython",
    "version": 3
   },
   "file_extension": ".py",
   "mimetype": "text/x-python",
   "name": "python",
   "nbconvert_exporter": "python",
   "pygments_lexer": "ipython3",
   "version": "3.8.8"
  }
 },
 "nbformat": 4,
 "nbformat_minor": 4
}
